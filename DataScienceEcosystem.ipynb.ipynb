{
 "cells": [
  {
   "cell_type": "markdown",
   "id": "1f6b3ab9-9da3-430f-a41e-0fe37e0d2bc5",
   "metadata": {},
   "source": [
    "# Data Science Tools and Ecosystem"
   ]
  },
  {
   "attachments": {},
   "cell_type": "markdown",
   "id": "75816b62-2444-4ee6-8405-70c2814edefc",
   "metadata": {},
   "source": [
    "In this notebook, Data Science Tools and Ecosystem are summarized.\r\n"
   ]
  },
  {
   "cell_type": "markdown",
   "id": "b8ae3d9a-6ab5-4e3d-966c-b44a36125ee7",
   "metadata": {},
   "source": [
    "Some of the popular languages that Data Scientists use are:\n",
    "1. Phyton\n",
    "2. SQL\n",
    "3. R\n",
    "4. Java"
   ]
  },
  {
   "cell_type": "markdown",
   "id": "9d692e52-321e-47f7-abf2-31c9ffdaf34f",
   "metadata": {},
   "source": [
    "Some of the commonly used libraries used by Data Scientists include:"
   ]
  },
  {
   "cell_type": "markdown",
   "id": "a49e5bc1-78b2-4058-b4d3-3d9cef65e5a7",
   "metadata": {},
   "source": [
    "1. MySQL\n",
    "2. PostgreSQL\n",
    "3. Apache Cassandra\n",
    "4. Oracle Database\n",
    "5. NoSQL"
   ]
  },
  {
   "cell_type": "markdown",
   "id": "0579f7a7-8287-4cd1-89c4-766a93b08da9",
   "metadata": {},
   "source": [
    "|Data Science Tools|\n",
    "|------------------|\n",
    "|Apache Spark|\n",
    "| Keras|\n",
    "|Spyder|"
   ]
  },
  {
   "cell_type": "markdown",
   "id": "ea89dc2f-663a-4032-b523-61873b7af785",
   "metadata": {},
   "source": [
    "### Below are a few examples of evaluating arithmetic expressions in Python"
   ]
  },
  {
   "cell_type": "markdown",
   "id": "c5296561-dd41-4a16-9e13-abb497566f40",
   "metadata": {},
   "source": [
    "(6*2)+3=15 \n",
    "\n",
    "3*6=30 \n",
    "\n",
    "12-8+3=7"
   ]
  },
  {
   "cell_type": "code",
   "execution_count": 10,
   "id": "f7abddf3-8c51-40c3-9b7e-9ea2b894a6b5",
   "metadata": {},
   "outputs": [
    {
     "data": {
      "text/plain": [
       "17"
      ]
     },
     "execution_count": 10,
     "metadata": {},
     "output_type": "execute_result"
    }
   ],
   "source": [
    "# This a simple arithmetic expression to mutiply then add integers\n",
    "(3*4)+5"
   ]
  },
  {
   "cell_type": "code",
   "execution_count": 12,
   "id": "c0bda518-0649-43a4-a7e9-569cade31047",
   "metadata": {},
   "outputs": [
    {
     "data": {
      "text/plain": [
       "3.3333333333333335"
      ]
     },
     "execution_count": 12,
     "metadata": {},
     "output_type": "execute_result"
    }
   ],
   "source": [
    "#This will convert 200 minutes to hours by diving by 60\n",
    "200/60"
   ]
  },
  {
   "cell_type": "markdown",
   "id": "b889697f-e95e-4fed-83be-74c56eb8d139",
   "metadata": {},
   "source": [
    "**Objectives:**\n",
    "- List popular languages for Data Science\n",
    "- Show some examples of arithmetic expressions\n",
    "- List popular libraries for Data Science\n",
    "  \n"
   ]
  },
  {
   "cell_type": "markdown",
   "id": "89e5cd09-fcb4-4737-bf3a-bad030e54c47",
   "metadata": {},
   "source": [
    "## Author\n",
    "\n",
    "Marian Ceriseri"
   ]
  },
  {
   "cell_type": "code",
   "execution_count": null,
   "id": "a656b60e-2090-4760-b1d1-8b753c630700",
   "metadata": {},
   "outputs": [],
   "source": []
  }
 ],
 "metadata": {
  "kernelspec": {
   "display_name": "Python 3 (ipykernel)",
   "language": "python",
   "name": "python3"
  },
  "language_info": {
   "codemirror_mode": {
    "name": "ipython",
    "version": 3
   },
   "file_extension": ".py",
   "mimetype": "text/x-python",
   "name": "python",
   "nbconvert_exporter": "python",
   "pygments_lexer": "ipython3",
   "version": "3.12.4"
  }
 },
 "nbformat": 4,
 "nbformat_minor": 5
}
